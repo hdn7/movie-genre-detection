{
 "nbformat": 4,
 "nbformat_minor": 2,
 "metadata": {
  "language_info": {
   "name": "python",
   "codemirror_mode": {
    "name": "ipython",
    "version": 3
   },
   "version": "3.7.4"
  },
  "orig_nbformat": 2,
  "file_extension": ".py",
  "mimetype": "text/x-python",
  "name": "python",
  "npconvert_exporter": "python",
  "pygments_lexer": "ipython3",
  "version": 3
 },
 "cells": [
  {
   "source": [
    "import keras\n",
    "from keras.models import Sequential\n",
    "from keras.layers import Dense, Dropout, Flatten\n",
    "from keras.layers import Conv2D, MaxPooling2D\n",
    "from keras.utils import to_categorical\n",
    "from keras.preprocessing import image\n",
    "import numpy as np\n",
    "import pandas as pd\n",
    "import matplotlib.pyplot as plt\n",
    "from sklearn.model_selection import train_test_split\n",
    "from tqdm import tqdm"
   ],
   "cell_type": "code",
   "outputs": [
    {
     "output_type": "error",
     "evalue": "Error: Cannot execute code, session has been disposed."
    }
   ],
   "metadata": {},
   "execution_count": null
  },
  {
   "source": [
    "train = pd.read_csv('Movies_Poster/Multi_Label_dataset/train.csv')\n",
    "train.shape[0]"
   ],
   "cell_type": "code",
   "outputs": [
    {
     "output_type": "error",
     "evalue": "Error: Cannot execute code, session has been disposed."
    }
   ],
   "metadata": {},
   "execution_count": null
  },
  {
   "source": [
    "# train_image = []\n",
    "# for i in tqdm(range(train.shape[0])):\n",
    "#     img = image.load_img('Movies_Poster/Multi_Label_dataset/Images/'+train['Id'][i]+'.jpg',target_size=(400,400,3))\n",
    "#     img = image.img_to_array(img)\n",
    "#     img = img/255\n",
    "#     train_image.append(img)\n",
    "# X = np.array(train_image)"
   ],
   "cell_type": "code",
   "outputs": [
    {
     "output_type": "error",
     "evalue": "Error: Cannot execute code, session has been disposed."
    }
   ],
   "metadata": {},
   "execution_count": null
  },
  {
   "source": [
    "y = np.array(train.drop(['Id', 'Genre'],axis=1))\n",
    "y.shape"
   ],
   "cell_type": "code",
   "outputs": [
    {
     "output_type": "error",
     "evalue": "Error: Cannot execute code, session has been disposed."
    }
   ],
   "metadata": {},
   "execution_count": null
  },
  {
   "source": [
    "model = Sequential()\n",
    "model.add(Conv2D(filters=16, kernel_size=(5, 5), activation=\"relu\", input_shape=(400,400,3)))\n",
    "model.add(MaxPooling2D(pool_size=(2, 2)))\n",
    "model.add(Dropout(0.25))\n",
    "model.add(Conv2D(filters=32, kernel_size=(5, 5), activation='relu'))\n",
    "model.add(MaxPooling2D(pool_size=(2, 2)))\n",
    "model.add(Dropout(0.25))\n",
    "model.add(Conv2D(filters=64, kernel_size=(5, 5), activation=\"relu\"))\n",
    "model.add(MaxPooling2D(pool_size=(2, 2)))\n",
    "model.add(Dropout(0.25))\n",
    "model.add(Conv2D(filters=64, kernel_size=(5, 5), activation='relu'))\n",
    "model.add(MaxPooling2D(pool_size=(2, 2)))\n",
    "model.add(Dropout(0.25))\n",
    "model.add(Flatten())\n",
    "model.add(Dense(128, activation='relu'))\n",
    "model.add(Dropout(0.5))\n",
    "model.add(Dense(64, activation='relu'))\n",
    "model.add(Dropout(0.5))\n",
    "model.add(Dense(25, activation='sigmoid'))"
   ],
   "cell_type": "code",
   "outputs": [
    {
     "output_type": "error",
     "evalue": "Error: Cannot execute code, session has been disposed."
    }
   ],
   "metadata": {},
   "execution_count": null
  },
  {
   "source": [
    "model.compile(optimizer='adam', loss='binary_crossentropy', metrics=['accuracy'])"
   ],
   "cell_type": "code",
   "outputs": [
    {
     "output_type": "error",
     "evalue": "Error: Cannot execute code, session has been disposed."
    }
   ],
   "metadata": {},
   "execution_count": null
  },
  {
   "source": [
    "X_train = []\n",
    "X_test = []\n",
    "y_train = []\n",
    "y_test = []\n",
    "def imageLoader(batch_size):\n",
    "    global X_train\n",
    "    global X_test\n",
    "    global y_train\n",
    "    global y_test\n",
    "    L = 7254\n",
    "    train_image = []\n",
    "    #this line is just to make the generator infinite, keras needs that    \n",
    "    \n",
    "    batch_start = 0\n",
    "    batch_end = batch_size\n",
    "    while batch_start < L:\n",
    "        print(batch_start)\n",
    "        limit = min(batch_end, L)\n",
    "\n",
    "        train_slice = train.iloc[batch_start:limit]\n",
    "        # print(train_slice.shape)\n",
    "        for i in tqdm(range(train_slice.shape[0])):\n",
    "            img = image.load_img('Movies_Poster/Multi_Label_dataset/Images/' + train['Id'][i] + '.jpg', target_size=(400,400,3))\n",
    "            img = image.img_to_array(img)\n",
    "            print(type(img))\n",
    "            # print(img.shape)\n",
    "            img = img/255\n",
    "            train_image.append(img)\n",
    "\n",
    "        # print(len(train_image))\n",
    "        \n",
    "        X = np.array(train_image[batch_start:limit])\n",
    "        Y = y[batch_start:limit]\n",
    "\n",
    "\n",
    "        # X_train, X_test, y_train, y_test = train_test_split(X, Y, random_state=42, test_size=0.1)\n",
    "        print(X.shape)\n",
    "        print(Y.shape)\n",
    "\n",
    "        # yield (X_train, y_train)\n",
    "        yield (X, Y)\n",
    "\n",
    "        batch_start += batch_size   \n",
    "        batch_end += batch_size\n",
    "\n",
    "            \n",
    "\n",
    "images = imageLoader(500)\n",
    "image = next(images)\n",
    "# print(next(images))\n",
    "# for index, i in enumerate(images):\n",
    "#     print(index)\n",
    "    # print(len(i[0]), len(i[1]))\n",
    "# model.fit_generator(images, steps_per_epoch=14, epochs=10, validation_data=(X_test, y_test), verbose=2, initial_epoch=1)\n",
    "model.fit(image, steps_per_epoch=14, epochs=10, validation_data=(X_test, y_test), verbose=2, initial_epoch=1)"
   ],
   "cell_type": "code",
   "outputs": [
    {
     "output_type": "error",
     "evalue": "Error: Cannot execute code, session has been disposed."
    }
   ],
   "metadata": {},
   "execution_count": null
  },
  {
   "cell_type": "code",
   "metadata": {},
   "outputs": [],
   "source": []
  }
 ]
}